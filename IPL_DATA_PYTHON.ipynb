{
 "cells": [
  {
   "cell_type": "code",
   "execution_count": 2,
   "id": "26d1b538",
   "metadata": {},
   "outputs": [
    {
     "name": "stdout",
     "output_type": "stream",
     "text": [
      "   match_id  inning           batting_team                 bowling_team  over  \\\n",
      "0    335982       1  Kolkata Knight Riders  Royal Challengers Bangalore     0   \n",
      "1    335982       1  Kolkata Knight Riders  Royal Challengers Bangalore     0   \n",
      "2    335982       1  Kolkata Knight Riders  Royal Challengers Bangalore     0   \n",
      "3    335982       1  Kolkata Knight Riders  Royal Challengers Bangalore     0   \n",
      "4    335982       1  Kolkata Knight Riders  Royal Challengers Bangalore     0   \n",
      "\n",
      "   ball       batter   bowler  non_striker  batsman_runs  extra_runs  \\\n",
      "0     1   SC Ganguly  P Kumar  BB McCullum             0           1   \n",
      "1     2  BB McCullum  P Kumar   SC Ganguly             0           0   \n",
      "2     3  BB McCullum  P Kumar   SC Ganguly             0           1   \n",
      "3     4  BB McCullum  P Kumar   SC Ganguly             0           0   \n",
      "4     5  BB McCullum  P Kumar   SC Ganguly             0           0   \n",
      "\n",
      "   total_runs extras_type  is_wicket player_dismissed dismissal_kind fielder  \n",
      "0           1     legbyes          0              NaN            NaN     NaN  \n",
      "1           0         NaN          0              NaN            NaN     NaN  \n",
      "2           1       wides          0              NaN            NaN     NaN  \n",
      "3           0         NaN          0              NaN            NaN     NaN  \n",
      "4           0         NaN          0              NaN            NaN     NaN  \n"
     ]
    }
   ],
   "source": [
    "import pandas as pd\n",
    "\n",
    "# Load the deliveries CSV file\n",
    "deliveries = pd.read_csv(r\"C:\\Users\\priyam\\Downloads\\deliveries.csv\\deliveries.csv\")\n",
    "\n",
    "# Preview the data\n",
    "print(deliveries.head())\n"
   ]
  },
  {
   "cell_type": "code",
   "execution_count": 3,
   "id": "9188a76a",
   "metadata": {},
   "outputs": [
    {
     "name": "stdout",
     "output_type": "stream",
     "text": [
      "Index(['match_id', 'inning', 'batting_team', 'bowling_team', 'over', 'ball',\n",
      "       'batter', 'bowler', 'non_striker', 'batsman_runs', 'extra_runs',\n",
      "       'total_runs', 'extras_type', 'is_wicket', 'player_dismissed',\n",
      "       'dismissal_kind', 'fielder'],\n",
      "      dtype='object')\n"
     ]
    }
   ],
   "source": [
    "# Show all column names to find the correct one\n",
    "print(deliveries.columns)"
   ]
  },
  {
   "cell_type": "code",
   "execution_count": 4,
   "id": "f38dc20f",
   "metadata": {},
   "outputs": [
    {
     "data": {
      "text/plain": [
       "batter\n",
       "V Kohli           8014\n",
       "S Dhawan          6769\n",
       "RG Sharma         6630\n",
       "DA Warner         6567\n",
       "SK Raina          5536\n",
       "MS Dhoni          5243\n",
       "AB de Villiers    5181\n",
       "CH Gayle          4997\n",
       "RV Uthappa        4954\n",
       "KD Karthik        4843\n",
       "Name: batsman_runs, dtype: int64"
      ]
     },
     "execution_count": 4,
     "metadata": {},
     "output_type": "execute_result"
    }
   ],
   "source": [
    "deliveries.groupby('batter')['batsman_runs'].sum().sort_values(ascending=False).head(10)"
   ]
  },
  {
   "cell_type": "code",
   "execution_count": 5,
   "id": "3712d3d0",
   "metadata": {},
   "outputs": [
    {
     "data": {
      "text/plain": [
       "bowler\n",
       "YS Chahal     213\n",
       "DJ Bravo      207\n",
       "PP Chawla     201\n",
       "SP Narine     200\n",
       "R Ashwin      198\n",
       "B Kumar       195\n",
       "SL Malinga    188\n",
       "A Mishra      183\n",
       "JJ Bumrah     182\n",
       "RA Jadeja     169\n",
       "Name: player_dismissed, dtype: int64"
      ]
     },
     "execution_count": 5,
     "metadata": {},
     "output_type": "execute_result"
    }
   ],
   "source": [
    "# Top 10 bowlers by number of wickets\n",
    "# (assuming 'player_dismissed' and 'bowler' columns exist)\n",
    "deliveries[deliveries['player_dismissed'].notna()] \\\n",
    "    .groupby('bowler')['player_dismissed'].count() \\\n",
    "    .sort_values(ascending=False).head(10)"
   ]
  },
  {
   "cell_type": "code",
   "execution_count": 6,
   "id": "bc7765d7",
   "metadata": {},
   "outputs": [
    {
     "name": "stdout",
     "output_type": "stream",
     "text": [
      "batter\n",
      "L Wood             300.000000\n",
      "B Stanlake         250.000000\n",
      "J Fraser-McGurk    220.000000\n",
      "R Sai Kishore      216.666667\n",
      "Umar Gul           205.263158\n",
      "RS Sodhi           200.000000\n",
      "Shahid Afridi      176.086957\n",
      "I Malhotra         175.000000\n",
      "WG Jacks           172.932331\n",
      "PD Salt            169.610390\n",
      "dtype: float64\n"
     ]
    }
   ],
   "source": [
    "# Calculate top 10 batters by strike rate\n",
    "balls_faced = deliveries.groupby('batter')[\"ball\"].count()\n",
    "runs_scored = deliveries.groupby('batter')[\"batsman_runs\"].sum()\n",
    "strike_rate = (runs_scored / balls_faced) * 100\n",
    "print(strike_rate.sort_values(ascending=False).head(10))"
   ]
  },
  {
   "cell_type": "code",
   "execution_count": 7,
   "id": "9b8d8d35",
   "metadata": {},
   "outputs": [],
   "source": [
    "# Add strike rate and economy rate columns\n",
    "# Use correct column names: 'batsman_runs' for batter runs, 'total_runs' for total runs (adjust if needed)\n",
    "deliveries['is_boundary'] = deliveries['batsman_runs'].apply(lambda x: 1 if x in [4, 6] else 0)\n",
    "deliveries['is_dot'] = deliveries['total_runs'].apply(lambda x: 1 if x == 0 else 0)"
   ]
  },
  {
   "cell_type": "code",
   "execution_count": 8,
   "id": "42a5ff82",
   "metadata": {},
   "outputs": [
    {
     "data": {
      "text/html": [
       "<div>\n",
       "<style scoped>\n",
       "    .dataframe tbody tr th:only-of-type {\n",
       "        vertical-align: middle;\n",
       "    }\n",
       "\n",
       "    .dataframe tbody tr th {\n",
       "        vertical-align: top;\n",
       "    }\n",
       "\n",
       "    .dataframe thead th {\n",
       "        text-align: right;\n",
       "    }\n",
       "</style>\n",
       "<table border=\"1\" class=\"dataframe\">\n",
       "  <thead>\n",
       "    <tr style=\"text-align: right;\">\n",
       "      <th></th>\n",
       "      <th>batter</th>\n",
       "      <th>batsman_runs</th>\n",
       "      <th>ball</th>\n",
       "      <th>is_boundary</th>\n",
       "      <th>is_dot</th>\n",
       "      <th>strike_rate</th>\n",
       "    </tr>\n",
       "  </thead>\n",
       "  <tbody>\n",
       "    <tr>\n",
       "      <th>631</th>\n",
       "      <td>V Kohli</td>\n",
       "      <td>8014</td>\n",
       "      <td>6236</td>\n",
       "      <td>981</td>\n",
       "      <td>1967</td>\n",
       "      <td>128.511867</td>\n",
       "    </tr>\n",
       "    <tr>\n",
       "      <th>512</th>\n",
       "      <td>S Dhawan</td>\n",
       "      <td>6769</td>\n",
       "      <td>5483</td>\n",
       "      <td>921</td>\n",
       "      <td>1879</td>\n",
       "      <td>123.454313</td>\n",
       "    </tr>\n",
       "    <tr>\n",
       "      <th>477</th>\n",
       "      <td>RG Sharma</td>\n",
       "      <td>6630</td>\n",
       "      <td>5183</td>\n",
       "      <td>880</td>\n",
       "      <td>1852</td>\n",
       "      <td>127.918194</td>\n",
       "    </tr>\n",
       "    <tr>\n",
       "      <th>147</th>\n",
       "      <td>DA Warner</td>\n",
       "      <td>6567</td>\n",
       "      <td>4849</td>\n",
       "      <td>899</td>\n",
       "      <td>1628</td>\n",
       "      <td>135.429986</td>\n",
       "    </tr>\n",
       "    <tr>\n",
       "      <th>546</th>\n",
       "      <td>SK Raina</td>\n",
       "      <td>5536</td>\n",
       "      <td>4177</td>\n",
       "      <td>710</td>\n",
       "      <td>1276</td>\n",
       "      <td>132.535312</td>\n",
       "    </tr>\n",
       "    <tr>\n",
       "      <th>374</th>\n",
       "      <td>MS Dhoni</td>\n",
       "      <td>5243</td>\n",
       "      <td>3947</td>\n",
       "      <td>615</td>\n",
       "      <td>1203</td>\n",
       "      <td>132.835065</td>\n",
       "    </tr>\n",
       "    <tr>\n",
       "      <th>30</th>\n",
       "      <td>AB de Villiers</td>\n",
       "      <td>5181</td>\n",
       "      <td>3487</td>\n",
       "      <td>667</td>\n",
       "      <td>983</td>\n",
       "      <td>148.580442</td>\n",
       "    </tr>\n",
       "    <tr>\n",
       "      <th>124</th>\n",
       "      <td>CH Gayle</td>\n",
       "      <td>4997</td>\n",
       "      <td>3516</td>\n",
       "      <td>767</td>\n",
       "      <td>1387</td>\n",
       "      <td>142.121729</td>\n",
       "    </tr>\n",
       "    <tr>\n",
       "      <th>501</th>\n",
       "      <td>RV Uthappa</td>\n",
       "      <td>4954</td>\n",
       "      <td>3927</td>\n",
       "      <td>663</td>\n",
       "      <td>1388</td>\n",
       "      <td>126.152279</td>\n",
       "    </tr>\n",
       "    <tr>\n",
       "      <th>282</th>\n",
       "      <td>KD Karthik</td>\n",
       "      <td>4843</td>\n",
       "      <td>3687</td>\n",
       "      <td>627</td>\n",
       "      <td>1151</td>\n",
       "      <td>131.353404</td>\n",
       "    </tr>\n",
       "  </tbody>\n",
       "</table>\n",
       "</div>"
      ],
      "text/plain": [
       "             batter  batsman_runs  ball  is_boundary  is_dot  strike_rate\n",
       "631         V Kohli          8014  6236          981    1967   128.511867\n",
       "512        S Dhawan          6769  5483          921    1879   123.454313\n",
       "477       RG Sharma          6630  5183          880    1852   127.918194\n",
       "147       DA Warner          6567  4849          899    1628   135.429986\n",
       "546        SK Raina          5536  4177          710    1276   132.535312\n",
       "374        MS Dhoni          5243  3947          615    1203   132.835065\n",
       "30   AB de Villiers          5181  3487          667     983   148.580442\n",
       "124        CH Gayle          4997  3516          767    1387   142.121729\n",
       "501      RV Uthappa          4954  3927          663    1388   126.152279\n",
       "282      KD Karthik          4843  3687          627    1151   131.353404"
      ]
     },
     "execution_count": 8,
     "metadata": {},
     "output_type": "execute_result"
    }
   ],
   "source": [
    "# Aggregate player stats with correct column names\n",
    "player_stats = deliveries.groupby('batter').agg({\n",
    "    'batsman_runs': 'sum',\n",
    "    'ball': 'count',\n",
    "    'is_boundary': 'sum',\n",
    "    'is_dot': 'sum'\n",
    "}).reset_index()\n",
    "\n",
    "player_stats['strike_rate'] = (player_stats['batsman_runs'] / player_stats['ball']) * 100\n",
    "player_stats.sort_values('batsman_runs', ascending=False).head(10)"
   ]
  },
  {
   "cell_type": "code",
   "execution_count": 9,
   "id": "ab193ae2",
   "metadata": {},
   "outputs": [
    {
     "name": "stderr",
     "output_type": "stream",
     "text": [
      "C:\\Users\\priyam\\AppData\\Local\\Temp\\ipykernel_22872\\3489889160.py:5: FutureWarning: \n",
      "\n",
      "Passing `palette` without assigning `hue` is deprecated and will be removed in v0.14.0. Assign the `y` variable to `hue` and set `legend=False` for the same effect.\n",
      "\n",
      "  sns.barplot(data=top_scorers, x='batsman_runs', y='batter', palette='viridis')\n"
     ]
    },
    {
     "data": {
      "image/png": "[encoded data removed]",
      "text/plain": [
       "<Figure size 640x480 with 1 Axes>"
      ]
     },
     "metadata": {},
     "output_type": "display_data"
    }
   ],
   "source": [
    "import seaborn as sns\n",
    "import matplotlib.pyplot as plt\n",
    "\n",
    "top_scorers = player_stats.sort_values('batsman_runs', ascending=False).head(10)\n",
    "sns.barplot(data=top_scorers, x='batsman_runs', y='batter', palette='viridis')\n",
    "plt.title('Top 10 Run Scorers')\n",
    "plt.xlabel('Runs')\n",
    "plt.ylabel('Player')\n",
    "plt.tight_layout()\n",
    "plt.show()"
   ]
  },
  {
   "cell_type": "code",
   "execution_count": 10,
   "id": "5e92af9a",
   "metadata": {},
   "outputs": [
    {
     "name": "stderr",
     "output_type": "stream",
     "text": [
      "C:\\Users\\priyam\\AppData\\Local\\Temp\\ipykernel_22872\\961864977.py:10: FutureWarning: \n",
      "\n",
      "Passing `palette` without assigning `hue` is deprecated and will be removed in v0.14.0. Assign the `y` variable to `hue` and set `legend=False` for the same effect.\n",
      "\n",
      "  sns.barplot(data=top_bowlers, x='economy', y='bowler', palette='magma')\n"
     ]
    },
    {
     "data": {
      "image/png": "[encoded data removed]",
      "text/plain": [
       "<Figure size 640x480 with 1 Axes>"
      ]
     },
     "metadata": {},
     "output_type": "display_data"
    }
   ],
   "source": [
    "# Economy rate of top bowlers\n",
    "bowler_stats = deliveries.groupby('bowler').agg({\n",
    "    'total_runs': 'sum',\n",
    "    'ball': 'count'\n",
    "}).reset_index()\n",
    "\n",
    "bowler_stats['economy'] = (bowler_stats['total_runs'] / bowler_stats['ball']) * 6\n",
    "top_bowlers = bowler_stats.sort_values('ball', ascending=False).head(10)\n",
    "\n",
    "sns.barplot(data=top_bowlers, x='economy', y='bowler', palette='magma')\n",
    "plt.title('Economy Rate of Top Bowlers')\n",
    "plt.xlabel('Economy')\n",
    "plt.ylabel('Bowler')\n",
    "plt.tight_layout()\n",
    "plt.show()"
   ]
  },
  {
   "cell_type": "code",
   "execution_count": 11,
   "id": "2d81e8cb",
   "metadata": {},
   "outputs": [
    {
     "name": "stdout",
     "output_type": "stream",
     "text": [
      "Most runs scored in a single over:\n",
      "       match_id  over  total_runs\n",
      "20362   1422121    18          52\n",
      "20984   1426273     2          52\n",
      "19085   1359487    19          51\n",
      "15054   1216496    19          51\n",
      "15455   1216517     0          51\n",
      "\n",
      "Dismissal types distribution:\n",
      "dismissal_kind\n",
      "caught                   8063\n",
      "bowled                   2212\n",
      "run out                  1114\n",
      "lbw                       800\n",
      "caught and bowled         367\n",
      "stumped                   358\n",
      "retired hurt               15\n",
      "hit wicket                 15\n",
      "obstructing the field       3\n",
      "retired out                 3\n",
      "Name: count, dtype: int64\n",
      "\n",
      "Most productive batting partnerships:\n",
      "              batter     non_striker  batsman_runs\n",
      "324   AB de Villiers         V Kohli          1566\n",
      "1477        CH Gayle         V Kohli          1508\n",
      "8499         V Kohli  AB de Villiers          1474\n",
      "1795       DA Warner        S Dhawan          1354\n",
      "8509         V Kohli        CH Gayle          1142\n",
      "\n",
      "Column 'is_super_over' not found in data.\n",
      "\n",
      "Batters with most 30+ scores:\n",
      "batter\n",
      "V Kohli      115\n",
      "DA Warner     96\n",
      "S Dhawan      95\n",
      "RG Sharma     94\n",
      "SK Raina      77\n",
      "Name: count, dtype: int64\n",
      "\n",
      "Batters with most 30+ scores:\n",
      "batter\n",
      "V Kohli      115\n",
      "DA Warner     96\n",
      "S Dhawan      95\n",
      "RG Sharma     94\n",
      "SK Raina      77\n",
      "Name: count, dtype: int64\n"
     ]
    }
   ],
   "source": [
    "# 6. Most runs in a single over\n",
    "most_runs_over = deliveries.groupby(['match_id', 'over']).agg({'total_runs': 'sum'}).reset_index()\n",
    "most_runs_over = most_runs_over.sort_values('total_runs', ascending=False).head(5)\n",
    "print(\"Most runs scored in a single over:\")\n",
    "print(most_runs_over)\n",
    "\n",
    "# 7. Dismissal types distribution\n",
    "if 'dismissal_kind' in deliveries.columns:\n",
    "    dismissal_counts = deliveries['dismissal_kind'].value_counts()\n",
    "    print(\"\\nDismissal types distribution:\")\n",
    "    print(dismissal_counts)\n",
    "else:\n",
    "    print(\"\\nColumn 'dismissal_kind' not found in data.\")\n",
    "\n",
    "# 8. Most productive batting partnerships\n",
    "if 'non_striker' in deliveries.columns:\n",
    "    partnership = deliveries.groupby(['batter', 'non_striker'])['batsman_runs'].sum().reset_index()\n",
    "    top_partnerships = partnership.sort_values('batsman_runs', ascending=False).head(5)\n",
    "    print(\"\\nMost productive batting partnerships:\")\n",
    "    print(top_partnerships)\n",
    "else:\n",
    "    print(\"\\nColumn 'non_striker' not found in data.\")\n",
    "\n",
    "# 9. Super over analysis\n",
    "if 'is_super_over' in deliveries.columns:\n",
    "    super_over_stats = deliveries[deliveries['is_super_over'] == 1]\n",
    "    if not super_over_stats.empty:\n",
    "        print(\"\\nSuper over stats:\")\n",
    "        print(super_over_stats.groupby('batter')['batsman_runs'].sum().sort_values(ascending=False).head(5))\n",
    "    else:\n",
    "        print(\"\\nNo super over data available.\")\n",
    "else:\n",
    "    print(\"\\nColumn 'is_super_over' not found in data.\")\n",
    "\n",
    "# 10. Consistency: Most 30+ scores\n",
    "if 'match_id' in deliveries.columns:\n",
    "    batter_match_runs = deliveries.groupby(['match_id', 'batter'])['batsman_runs'].sum().reset_index()\n",
    "    thirties = batter_match_runs[batter_match_runs['batsman_runs'] >= 30]\n",
    "    thirties_count = thirties['batter'].value_counts().head(5)\n",
    "    print(\"\\nBatters with most 30+ scores:\")\n",
    "    print(thirties_count)\n",
    "else:\n",
    "    print(\"\\nColumn 'match_id' not found in data.\")"
   ]
  },
  {
   "cell_type": "code",
   "execution_count": null,
   "id": "7b74ecc4",
   "metadata": {},
   "outputs": [],
   "source": []
  }
 ],
 "metadata": {
  "kernelspec": {
   "display_name": "Python 3",
   "language": "python",
   "name": "python3"
  },
  "language_info": {
   "codemirror_mode": {
    "name": "ipython",
    "version": 3
   },
   "file_extension": ".py",
   "mimetype": "text/x-python",
   "name": "python",
   "nbconvert_exporter": "python",
   "pygments_lexer": "ipython3",
   "version": "3.13.5"
  }
 },
 "nbformat": 4,
 "nbformat_minor": 5
}
