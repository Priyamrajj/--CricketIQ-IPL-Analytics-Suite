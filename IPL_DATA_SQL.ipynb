{
 "cells": [
  {
   "cell_type": "code",
   "execution_count": 1,
   "id": "ca366067",
   "metadata": {},
   "outputs": [],
   "source": [
    "import sqlite3\n"
   ]
  },
  {
   "cell_type": "code",
   "execution_count": 3,
   "id": "3c79c43b",
   "metadata": {},
   "outputs": [],
   "source": [
    "import pandas as pd\n",
    "import sqlite3\n",
    "\n",
    "conn = sqlite3.connect('ipl.db')\n",
    "deliveries = pd.read_csv(r'C:\\Users\\priyam\\Downloads\\deliveries.csv\\deliveries.csv')\n",
    "deliveries.to_sql('deliveries', conn, if_exists='replace', index=False)\n",
    "conn.close()"
   ]
  },
  {
   "cell_type": "code",
   "execution_count": 5,
   "id": "e21bc14a",
   "metadata": {},
   "outputs": [
    {
     "name": "stdout",
     "output_type": "stream",
     "text": [
      "           batter  total_runs\n",
      "0         V Kohli        8014\n",
      "1        S Dhawan        6769\n",
      "2       RG Sharma        6630\n",
      "3       DA Warner        6567\n",
      "4        SK Raina        5536\n",
      "5        MS Dhoni        5243\n",
      "6  AB de Villiers        5181\n",
      "7        CH Gayle        4997\n",
      "8      RV Uthappa        4954\n",
      "9      KD Karthik        4843\n"
     ]
    }
   ],
   "source": [
    "import sqlite3\n",
    "import pandas as pd\n",
    "\n",
    "conn = sqlite3.connect('ipl.db')\n",
    "query = \"\"\"\n",
    "SELECT batter, SUM(batsman_runs) AS total_runs\n",
    "FROM deliveries\n",
    "GROUP BY batter\n",
    "ORDER BY total_runs DESC\n",
    "LIMIT 10;\n",
    "\"\"\"\n",
    "top_scorers = pd.read_sql_query(query, conn)\n",
    "conn.close()\n",
    "\n",
    "print(top_scorers)"
   ]
  },
  {
   "cell_type": "code",
   "execution_count": 7,
   "id": "494c60c0",
   "metadata": {},
   "outputs": [
    {
     "name": "stdout",
     "output_type": "stream",
     "text": [
      "            bowler  dot_balls\n",
      "0          B Kumar       1632\n",
      "1        SP Narine       1569\n",
      "2         R Ashwin       1552\n",
      "3        PP Chawla       1325\n",
      "4  Harbhajan Singh       1263\n",
      "5        JJ Bumrah       1228\n",
      "6        RA Jadeja       1216\n",
      "7        YS Chahal       1194\n",
      "8         UT Yadav       1186\n",
      "9         A Mishra       1185\n"
     ]
    }
   ],
   "source": [
    "import sqlite3\n",
    "import pandas as pd\n",
    "\n",
    "conn = sqlite3.connect('ipl.db')\n",
    "query = \"\"\"\n",
    "SELECT bowler, COUNT(*) AS dot_balls\n",
    "FROM deliveries\n",
    "WHERE total_runs = 0\n",
    "GROUP BY bowler\n",
    "ORDER BY dot_balls DESC\n",
    "LIMIT 10;\n",
    "\"\"\"\n",
    "dot_balls = pd.read_sql_query(query, conn)\n",
    "conn.close()\n",
    "\n",
    "print(dot_balls)"
   ]
  },
  {
   "cell_type": "code",
   "execution_count": 8,
   "id": "6c6606cb",
   "metadata": {},
   "outputs": [
    {
     "name": "stdout",
     "output_type": "stream",
     "text": [
      "          dismissal_kind  count\n",
      "0                 caught   8063\n",
      "1                 bowled   2212\n",
      "2                run out   1114\n",
      "3                    lbw    800\n",
      "4      caught and bowled    367\n",
      "5                stumped    358\n",
      "6           retired hurt     15\n",
      "7             hit wicket     15\n",
      "8            retired out      3\n",
      "9  obstructing the field      3\n"
     ]
    }
   ],
   "source": [
    "import sqlite3\n",
    "import pandas as pd\n",
    "\n",
    "conn = sqlite3.connect('ipl.db')\n",
    "query = \"\"\"\n",
    "SELECT dismissal_kind, COUNT(*) AS count\n",
    "FROM deliveries\n",
    "WHERE dismissal_kind IS NOT NULL\n",
    "GROUP BY dismissal_kind\n",
    "ORDER BY count DESC;\n",
    "\"\"\"\n",
    "dismissal_counts = pd.read_sql_query(query, conn)\n",
    "conn.close()\n",
    "\n",
    "print(dismissal_counts)"
   ]
  },
  {
   "cell_type": "code",
   "execution_count": 9,
   "id": "ee64f6ad",
   "metadata": {},
   "outputs": [
    {
     "name": "stdout",
     "output_type": "stream",
     "text": [
      "           batter  sixes\n",
      "0        CH Gayle    359\n",
      "1       RG Sharma    281\n",
      "2         V Kohli    273\n",
      "3  AB de Villiers    253\n",
      "4        MS Dhoni    252\n",
      "5       DA Warner    236\n",
      "6      KA Pollard    224\n",
      "7      AD Russell    209\n",
      "8       SV Samson    206\n",
      "9        SK Raina    204\n"
     ]
    }
   ],
   "source": [
    "import sqlite3\n",
    "import pandas as pd\n",
    "\n",
    "conn = sqlite3.connect('ipl.db')\n",
    "query = \"\"\"\n",
    "SELECT batter, COUNT(*) AS sixes\n",
    "FROM deliveries\n",
    "WHERE batsman_runs = 6\n",
    "GROUP BY batter\n",
    "ORDER BY sixes DESC\n",
    "LIMIT 10;\n",
    "\"\"\"\n",
    "sixes = pd.read_sql_query(query, conn)\n",
    "conn.close()\n",
    "\n",
    "print(sixes)"
   ]
  },
  {
   "cell_type": "code",
   "execution_count": null,
   "id": "047aa6a9",
   "metadata": {},
   "outputs": [],
   "source": []
  }
 ],
 "metadata": {
  "kernelspec": {
   "display_name": "Python 3",
   "language": "python",
   "name": "python3"
  },
  "language_info": {
   "codemirror_mode": {
    "name": "ipython",
    "version": 3
   },
   "file_extension": ".py",
   "mimetype": "text/x-python",
   "name": "python",
   "nbconvert_exporter": "python",
   "pygments_lexer": "ipython3",
   "version": "3.13.5"
  }
 },
 "nbformat": 4,
 "nbformat_minor": 5
}
